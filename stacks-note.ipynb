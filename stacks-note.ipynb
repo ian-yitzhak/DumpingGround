{
 "cells": [
  {
   "cell_type": "code",
   "execution_count": 36,
   "metadata": {},
   "outputs": [],
   "source": [
    "# Here, we're gonna deal with the stacks data-strucutre.\n",
    "class Stack():\n",
    "    def __init__(self):\n",
    "        self.items = []\n",
    "    def push(self, item):\n",
    "        self.items.append(item)\n",
    "    def pop(self):\n",
    "        return self.items.pop()\n",
    "    def get_stack(self):\n",
    "        return self.items\n",
    "    def is_empty(self):\n",
    "        #         if len(self.items) < 1:\n",
    "        #             return True\n",
    "        #         else:\n",
    "        #             return False\n",
    "        #   Different approach\n",
    "        return self.items == []\n",
    "    def peek(self):\n",
    "        if not self.is_empty():\n",
    "            return self.items[-1]\n",
    "    def clear_stack(self):\n",
    "        self.items = []\n",
    "        \n",
    "    \n",
    "\n",
    "    "
   ]
  },
  {
   "cell_type": "code",
   "execution_count": 37,
   "metadata": {},
   "outputs": [
    {
     "name": "stdout",
     "output_type": "stream",
     "text": [
      "[99, 86, 899]\n"
     ]
    }
   ],
   "source": [
    "stack = Stack()\n",
    "stack.push(99)\n",
    "stack.push(86)\n",
    "stack.push(899)\n",
    "print(stack.get_stack())"
   ]
  },
  {
   "cell_type": "code",
   "execution_count": 38,
   "metadata": {},
   "outputs": [
    {
     "name": "stdout",
     "output_type": "stream",
     "text": [
      "899\n"
     ]
    }
   ],
   "source": [
    "print(stack.peek())"
   ]
  },
  {
   "cell_type": "code",
   "execution_count": 48,
   "metadata": {},
   "outputs": [
    {
     "name": "stdout",
     "output_type": "stream",
     "text": [
      "[]\n"
     ]
    }
   ],
   "source": [
    "# Determine if Brackets are Balanced\n",
    "stack.clear_stack()\n",
    "print(stack.get_stack())\n",
    "\n",
    "def is_match(p1, p2):\n",
    "    if p1 == \"[\" and p2 == \"]\": return True\n",
    "    elif p1 == \"{\" and p2 == \"}\": return True\n",
    "    elif p1 == \"(\" and p2 == \")\": return True\n",
    "    else: return False\n",
    "\n",
    "def is_bracket_balanced(string):\n",
    "    stack = Stack()\n",
    "    is_balanced = True\n",
    "    index = 0\n",
    "    while index < len(string) and is_balanced:\n",
    "        paren = string[index]\n",
    "        if paren in \"({[\":\n",
    "            stack.push(paren)\n",
    "#             print(\"Pushing %s\" % paren)\n",
    "        else:\n",
    "            if stack.is_empty():\n",
    "                is_balanced = False\n",
    "            else:\n",
    "                top = stack.pop()\n",
    "#                 print(is_match(top, paren))\n",
    "                if not is_match(top, paren):\n",
    "                    is_balanced = False\n",
    "        index += 1\n",
    "    if stack.is_empty() and is_balanced:\n",
    "        return True\n",
    "    else:\n",
    "        return False\n"
   ]
  },
  {
   "cell_type": "code",
   "execution_count": 50,
   "metadata": {},
   "outputs": [
    {
     "name": "stdout",
     "output_type": "stream",
     "text": [
      "Enter String: {{{[][]({})}}\n",
      "False\n"
     ]
    }
   ],
   "source": [
    "i = input(\"Enter String: \")\n",
    "print(is_bracket_balanced(i))"
   ]
  },
  {
   "cell_type": "code",
   "execution_count": 51,
   "metadata": {},
   "outputs": [
    {
     "name": "stdout",
     "output_type": "stream",
     "text": [
      ">>> Enter String: !evitacudE ot emocleW\n",
      "Welcome to Educative!"
     ]
    }
   ],
   "source": [
    "# REversing String Using Stacks.\n",
    "\n",
    "def reverse_string(string):\n",
    "    s = Stack()\n",
    "    for i in string:\n",
    "        s.push(i)\n",
    "    while not s.is_empty():\n",
    "        print(s.pop(), end=\"\")\n",
    "j = input(\">>> Enter String: \")\n",
    "reverse_string(j)"
   ]
  },
  {
   "cell_type": "code",
   "execution_count": 61,
   "metadata": {
    "scrolled": true
   },
   "outputs": [
    {
     "name": "stdout",
     "output_type": "stream",
     "text": [
      "3532 // 2 = 1766 :: 0\n",
      "1766 // 2 = 883 :: 0\n",
      "883 // 2 = 441 :: 1\n",
      "441 // 2 = 220 :: 1\n",
      "220 // 2 = 110 :: 0\n",
      "110 // 2 = 55 :: 0\n",
      "55 // 2 = 27 :: 1\n",
      "27 // 2 = 13 :: 1\n",
      "13 // 2 = 6 :: 1\n",
      "6 // 2 = 3 :: 0\n",
      "3 // 2 = 1 :: 1\n",
      "1 // 2 = 0 :: 1\n",
      "110111001100None\n"
     ]
    }
   ],
   "source": [
    "# Converting Decimal to Binary.\n",
    "\n",
    "def dec2bin(no):\n",
    "    s = Stack()\n",
    "    is_quotient_zero = False\n",
    "    while not is_quotient_zero:\n",
    "        if no == 0:\n",
    "            break;\n",
    "        print(f\"{no} // 2 = {no//2} :: {no%2}\")\n",
    "        s.push(no%2)\n",
    "        no = no // 2\n",
    "        \n",
    "    while not s.is_empty():\n",
    "        print(s.pop(), end=\"\")\n",
    "\n",
    "print(dec2bin(3532))        "
   ]
  },
  {
   "cell_type": "code",
   "execution_count": 56,
   "metadata": {},
   "outputs": [
    {
     "data": {
      "text/plain": [
       "0.5"
      ]
     },
     "execution_count": 56,
     "metadata": {},
     "output_type": "execute_result"
    }
   ],
   "source": [
    "1/2"
   ]
  },
  {
   "cell_type": "code",
   "execution_count": 57,
   "metadata": {},
   "outputs": [
    {
     "data": {
      "text/plain": [
       "0"
      ]
     },
     "execution_count": 57,
     "metadata": {},
     "output_type": "execute_result"
    }
   ],
   "source": [
    "1//2"
   ]
  },
  {
   "cell_type": "code",
   "execution_count": 58,
   "metadata": {},
   "outputs": [
    {
     "data": {
      "text/plain": [
       "1"
      ]
     },
     "execution_count": 58,
     "metadata": {},
     "output_type": "execute_result"
    }
   ],
   "source": [
    "1%2"
   ]
  },
  {
   "cell_type": "code",
   "execution_count": 60,
   "metadata": {},
   "outputs": [
    {
     "ename": "IndexError",
     "evalue": "pop from empty list",
     "output_type": "error",
     "traceback": [
      "\u001b[0;31m---------------------------------------------------------------------------\u001b[0m",
      "\u001b[0;31mIndexError\u001b[0m                                Traceback (most recent call last)",
      "\u001b[0;32m<ipython-input-60-47d711ddf6f1>\u001b[0m in \u001b[0;36m<module>\u001b[0;34m\u001b[0m\n\u001b[0;32m----> 1\u001b[0;31m \u001b[0;34m[\u001b[0m\u001b[0;34m]\u001b[0m\u001b[0;34m.\u001b[0m\u001b[0mpop\u001b[0m\u001b[0;34m(\u001b[0m\u001b[0;34m)\u001b[0m\u001b[0;34m\u001b[0m\u001b[0;34m\u001b[0m\u001b[0m\n\u001b[0m",
      "\u001b[0;31mIndexError\u001b[0m: pop from empty list"
     ]
    }
   ],
   "source": [
    "[].pop()"
   ]
  },
  {
   "cell_type": "code",
   "execution_count": null,
   "metadata": {},
   "outputs": [],
   "source": [
    "# Done"
   ]
  }
 ],
 "metadata": {
  "kernelspec": {
   "display_name": "Python 3",
   "language": "python",
   "name": "python3"
  },
  "language_info": {
   "codemirror_mode": {
    "name": "ipython",
    "version": 3
   },
   "file_extension": ".py",
   "mimetype": "text/x-python",
   "name": "python",
   "nbconvert_exporter": "python",
   "pygments_lexer": "ipython3",
   "version": "3.8.3"
  }
 },
 "nbformat": 4,
 "nbformat_minor": 4
}
