{
 "cells": [
  {
   "cell_type": "code",
   "execution_count": 1,
   "metadata": {},
   "outputs": [],
   "source": [
    "from selenium import webdriver\n",
    "from selenium.webdriver.common.by import By\n",
    "from selenium.webdriver.support.ui import WebDriverWait\n",
    "from selenium.webdriver.support import expected_conditions\n",
    "from selenium.webdriver.common.keys import Keys\n",
    "from requests_html import HTMLSession\n",
    "import pickle\n",
    "import time\n",
    "import random"
   ]
  },
  {
   "cell_type": "code",
   "execution_count": 2,
   "metadata": {},
   "outputs": [],
   "source": [
    "with open(\"creadentials.cred\", \"rb\") as file:\n",
    "    data = pickle.loads(file.read())\n",
    "    username, password = data[\"username\"], data[\"password\"]"
   ]
  },
  {
   "cell_type": "code",
   "execution_count": 3,
   "metadata": {},
   "outputs": [
    {
     "name": "stdout",
     "output_type": "stream",
     "text": [
      "['#love', '#instagood', '#fashion', '#photooftheday', '#beautiful', '#art', '#photography', '#happy', '#picoftheday', '#cute', '#follow', '#tbt', '#followme', '#nature', '#like4like', '#travel', '#instagram', '#style', '#repost', '#summer', '#instadaily', '#selfie', '#me', '#friends', '#fitness', '#girl', '#food', '#fun', '#beauty', '#instalike', '#smile', '#family', '#photo', '#life', '#likeforlike', '#music', '#ootd', '#follow4follow', '#makeup', '#amazing', '#igers', '#nofilter', '#dog', '#model', '#sunset', '#beach', '#instamood', '#foodporn', '#motivation', '#followforfollow', '#design', '#lifestyle', '#sky', '#l4l', '#f4f', '#일상', '#cat', '#handmade', '#hair', '#vscocam', '#bestoftheday', '#vsco', '#funny', '#dogsofinstagram', '#drawing', '#artist', '#gym', '#flowers', '#baby', '#wedding', '#girls', '#instapic', '#pretty', '#likeforlikes', '#photographer', '#instafood', '#party', '#inspiration', '#lol', '#cool', '#workout', '#likeforfollow', '#swag', '#fit', '#healthy', '#yummy', '#blackandwhite', '#foodie', '#moda', '#home', '#christmas', '#black', '#memes', '#holiday', '#pink', '#sea', '#landscape', '#blue', '#london', '#winter', '#night', '#puppy', '#catsofinstagram', '#nails', '#tattoo', '#happiness', '#instafashion', '#work', '#illustration', '#architecture', '#japan', '#weekend', '#daily', '#explore', '#nyc', '#coffee', '#look', '#데일리', '#blessed', '#spring', '#italy', '#travelgram', '#맞팔', '#portrait', '#소통', '#trip', '#shopping', '#paris', '#dress', '#tflers', '#vacation', '#wanderlust', '#health', '#goodmorning', '#fashionblogger', '#anime', '#red', '#vintage', '#travelphotography', '#green', '#sweet', '#meme', '#instalove', '#insta', '#birthday', '#instafollow', '#luxury', '#throwback', '#amor', '#followback', '#sketch', '#fitfam', '#delicious', '#bts', '#dogs', '#new', '#instacool', '#clouds', '#relax', '#outfit', '#naturephotography', '#photoshoot', '#likes', '#shoes', '#sunday', '#bodybuilding', '#artwork', '#cats', '#indonesia', '#instatravel', '#training', '#adventure', '#quotes', '#dance', '#followforfollowback', '#fashionista', '#dinner', '#usa', '#newyork', '#nike', '#painting', '#canon', '#picture', '#morning', '#blogger', '#iphoneonly', '#москва', '#awesome', '#dubai', '#boy', '#istanbul', '#vegan', '#mood', '#instaphoto', '#breakfast', '#nice', '#interiordesign', '#color', '#white', '#pet', '#night', '#puppy', '#catsofinstagram', '#nails', '#tattoo', '#happiness', '#instafashion', '#work', '#illustration', '#architecture', '#japan', '#weekend', '#daily', '#explore', '#nyc', '#coffee', '#look', '#데일리', '#blessed', '#spring', '#italy', '#travelgram', '#맞팔', '#portrait', '#소통', '#trip', '#shopping', '#paris', '#dress', '#tflers', '#vacation', '#wanderlust', '#health', '#goodmorning', '#fashionblogger', '#anime', '#red', '#vintage', '#travelphotography', '#green', '#sweet', '#meme', '#instalove', '#insta', '#birthday', '#instafollow', '#luxury', '#throwback', '#amor', '#followback', '#sketch', '#fitfam', '#delicious', '#bts', '#dogs', '#new', '#instacool', '#clouds', '#relax', '#outfit', '#naturephotography', '#photoshoot', '#likes', '#shoes', '#sunday', '#bodybuilding', '#artwork', '#cats', '#indonesia', '#instatravel', '#training', '#adventure', '#quotes', '#dance', '#followforfollowback', '#fashionista', '#dinner', '#usa', '#newyork', '#nike', '#painting', '#canon', '#picture', '#morning', '#blogger', '#iphoneonly', '#москва', '#awesome', '#dubai', '#boy', '#istanbul', '#vegan', '#mood', '#instaphoto', '#breakfast', '#nice', '#interiordesign', '#color', '#white', '#pet', '#night', '#puppy', '#catsofinstagram', '#nails', '#tattoo', '#happiness', '#instafashion', '#work', '#illustration', '#architecture', '#japan', '#weekend', '#daily', '#explore', '#nyc', '#coffee', '#look', '#데일리', '#blessed', '#spring', '#italy', '#travelgram', '#맞팔', '#portrait', '#소통', '#trip', '#shopping', '#paris', '#dress', '#tflers', '#vacation', '#wanderlust', '#health', '#goodmorning', '#fashionblogger', '#anime', '#red', '#vintage', '#travelphotography', '#green', '#sweet', '#meme', '#instalove', '#insta', '#birthday', '#instafollow', '#luxury', '#throwback', '#amor', '#followback', '#sketch', '#fitfam', '#delicious', '#bts', '#dogs', '#new', '#instacool', '#clouds', '#relax', '#outfit', '#naturephotography', '#photoshoot', '#likes', '#shoes', '#sunday', '#bodybuilding', '#artwork', '#cats', '#indonesia', '#instatravel', '#training', '#adventure', '#quotes', '#dance', '#followforfollowback', '#fashionista', '#dinner', '#usa', '#newyork', '#nike', '#painting', '#canon', '#picture', '#morning', '#blogger', '#iphoneonly', '#москва', '#awesome', '#dubai', '#boy', '#istanbul', '#vegan', '#mood', '#instaphoto', '#breakfast', '#nice', '#interiordesign', '#color', '#white', '#pet', '#night', '#puppy', '#catsofinstagram', '#nails', '#tattoo', '#happiness', '#instafashion', '#work', '#illustration', '#architecture', '#japan', '#weekend', '#daily', '#explore', '#nyc', '#coffee', '#look', '#데일리', '#blessed', '#spring', '#italy', '#travelgram', '#맞팔', '#portrait', '#소통', '#trip', '#shopping', '#paris', '#dress', '#tflers', '#vacation', '#wanderlust', '#health', '#goodmorning', '#fashionblogger', '#anime', '#red', '#vintage', '#travelphotography', '#green', '#sweet', '#meme', '#instalove', '#insta', '#birthday', '#instafollow', '#luxury', '#throwback', '#amor', '#followback', '#sketch', '#fitfam', '#delicious', '#bts', '#dogs', '#new', '#instacool', '#clouds', '#relax', '#outfit', '#naturephotography', '#photoshoot', '#likes', '#shoes', '#sunday', '#bodybuilding', '#artwork', '#cats', '#indonesia', '#instatravel', '#training', '#adventure', '#quotes', '#dance', '#followforfollowback', '#fashionista', '#dinner', '#usa', '#newyork', '#nike', '#painting', '#canon', '#picture', '#morning', '#blogger', '#iphoneonly', '#москва', '#awesome', '#dubai', '#boy', '#istanbul', '#vegan', '#mood', '#instaphoto', '#breakfast', '#nice', '#interiordesign', '#color', '#white', '#pet', '#night', '#puppy', '#catsofinstagram', '#nails', '#tattoo', '#happiness', '#instafashion', '#work', '#illustration', '#architecture', '#japan', '#weekend', '#daily', '#explore', '#nyc', '#coffee', '#look', '#데일리', '#blessed', '#spring', '#italy', '#travelgram', '#맞팔', '#portrait', '#소통', '#trip', '#shopping', '#paris', '#dress', '#tflers', '#vacation', '#wanderlust', '#health', '#goodmorning', '#fashionblogger', '#anime', '#red', '#vintage', '#travelphotography', '#green', '#sweet', '#meme', '#instalove', '#insta', '#birthday', '#instafollow', '#luxury', '#throwback', '#amor', '#followback', '#sketch', '#fitfam', '#delicious', '#bts', '#dogs', '#new', '#instacool', '#clouds', '#relax', '#outfit', '#naturephotography', '#photoshoot', '#likes', '#shoes', '#sunday', '#bodybuilding', '#artwork', '#cats', '#indonesia', '#instatravel', '#training', '#adventure', '#quotes', '#dance', '#followforfollowback', '#fashionista', '#dinner', '#usa', '#newyork', '#nike', '#painting', '#canon', '#picture', '#morning', '#blogger', '#iphoneonly', '#москва', '#awesome', '#dubai', '#boy', '#istanbul', '#vegan', '#mood', '#instaphoto', '#breakfast', '#nice', '#interiordesign', '#color', '#white', '#pet', '#night', '#puppy', '#catsofinstagram', '#nails', '#tattoo', '#happiness', '#instafashion', '#work', '#illustration', '#architecture', '#japan', '#weekend', '#daily', '#explore', '#nyc', '#coffee', '#look', '#데일리', '#blessed', '#spring', '#italy', '#travelgram', '#맞팔', '#portrait', '#소통', '#trip', '#shopping', '#paris', '#dress', '#tflers', '#vacation', '#wanderlust', '#health', '#goodmorning', '#fashionblogger', '#anime', '#red', '#vintage', '#travelphotography', '#green', '#sweet', '#meme', '#instalove', '#insta', '#birthday', '#instafollow', '#luxury', '#throwback', '#amor', '#followback', '#sketch', '#fitfam', '#delicious', '#bts', '#dogs', '#new', '#instacool', '#clouds', '#relax', '#outfit', '#naturephotography', '#photoshoot', '#likes', '#shoes', '#sunday', '#bodybuilding', '#artwork', '#cats', '#indonesia', '#instatravel', '#training', '#adventure', '#quotes', '#dance', '#followforfollowback', '#fashionista', '#dinner', '#usa', '#newyork', '#nike', '#painting', '#canon', '#picture', '#morning', '#blogger', '#iphoneonly', '#москва', '#awesome', '#dubai', '#boy', '#istanbul', '#vegan', '#mood', '#instaphoto', '#breakfast', '#nice', '#interiordesign', '#color', '#white', '#pet', '#night', '#puppy', '#catsofinstagram', '#nails', '#tattoo', '#happiness', '#instafashion', '#work', '#illustration', '#architecture', '#japan', '#weekend', '#daily', '#explore', '#nyc', '#coffee', '#look', '#데일리', '#blessed', '#spring', '#italy', '#travelgram', '#맞팔', '#portrait', '#소통', '#trip', '#shopping', '#paris', '#dress', '#tflers', '#vacation', '#wanderlust', '#health', '#goodmorning', '#fashionblogger', '#anime', '#red', '#vintage', '#travelphotography', '#green', '#sweet', '#meme', '#instalove', '#insta', '#birthday', '#instafollow', '#luxury', '#throwback', '#amor', '#followback', '#sketch', '#fitfam', '#delicious', '#bts', '#dogs', '#new', '#instacool', '#clouds', '#relax', '#outfit', '#naturephotography', '#photoshoot', '#likes', '#shoes', '#sunday', '#bodybuilding', '#artwork', '#cats', '#indonesia', '#instatravel', '#training', '#adventure', '#quotes', '#dance', '#followforfollowback', '#fashionista', '#dinner', '#usa', '#newyork', '#nike', '#painting', '#canon', '#picture', '#morning', '#blogger', '#iphoneonly', '#москва', '#awesome', '#dubai', '#boy', '#istanbul', '#vegan', '#mood', '#instaphoto', '#breakfast', '#nice', '#interiordesign', '#color', '#white', '#pet', '#night', '#puppy', '#catsofinstagram', '#nails', '#tattoo', '#happiness', '#instafashion', '#work', '#illustration', '#architecture', '#japan', '#weekend', '#daily', '#explore', '#nyc', '#coffee', '#look', '#데일리', '#blessed', '#spring', '#italy', '#travelgram', '#맞팔', '#portrait', '#소통', '#trip', '#shopping', '#paris', '#dress', '#tflers', '#vacation', '#wanderlust', '#health', '#goodmorning', '#fashionblogger', '#anime', '#red', '#vintage', '#travelphotography', '#green', '#sweet', '#meme', '#instalove', '#insta', '#birthday', '#instafollow', '#luxury', '#throwback', '#amor', '#followback', '#sketch', '#fitfam', '#delicious', '#bts', '#dogs', '#new', '#instacool', '#clouds', '#relax', '#outfit', '#naturephotography', '#photoshoot', '#likes', '#shoes', '#sunday', '#bodybuilding', '#artwork', '#cats', '#indonesia', '#instatravel', '#training', '#adventure', '#quotes', '#dance', '#followforfollowback', '#fashionista', '#dinner', '#usa', '#newyork', '#nike', '#painting', '#canon', '#picture', '#morning', '#blogger', '#iphoneonly', '#москва', '#awesome', '#dubai', '#boy', '#istanbul', '#vegan', '#mood', '#instaphoto', '#breakfast', '#nice', '#interiordesign', '#color', '#white', '#pet', '#night', '#puppy', '#catsofinstagram', '#nails', '#tattoo', '#happiness', '#instafashion', '#work', '#illustration', '#architecture', '#japan', '#weekend', '#daily', '#explore', '#nyc', '#coffee', '#look', '#데일리', '#blessed', '#spring', '#italy', '#travelgram', '#맞팔', '#portrait', '#소통', '#trip', '#shopping', '#paris', '#dress', '#tflers', '#vacation', '#wanderlust', '#health', '#goodmorning', '#fashionblogger', '#anime', '#red', '#vintage', '#travelphotography', '#green', '#sweet', '#meme', '#instalove', '#insta', '#birthday', '#instafollow', '#luxury', '#throwback', '#amor', '#followback', '#sketch', '#fitfam', '#delicious', '#bts', '#dogs', '#new', '#instacool', '#clouds', '#relax', '#outfit', '#naturephotography', '#photoshoot', '#likes', '#shoes', '#sunday', '#bodybuilding', '#artwork', '#cats', '#indonesia', '#instatravel', '#training', '#adventure', '#quotes', '#dance', '#followforfollowback', '#fashionista', '#dinner', '#usa', '#newyork', '#nike', '#painting', '#canon', '#picture', '#morning', '#blogger', '#iphoneonly', '#москва', '#awesome', '#dubai', '#boy', '#istanbul', '#vegan', '#mood', '#instaphoto', '#breakfast', '#nice', '#interiordesign', '#color', '#white', '#pet', '#night', '#puppy', '#catsofinstagram', '#nails', '#tattoo', '#happiness', '#instafashion', '#work', '#illustration', '#architecture', '#japan', '#weekend', '#daily', '#explore', '#nyc', '#coffee', '#look', '#데일리', '#blessed', '#spring', '#italy', '#travelgram', '#맞팔', '#portrait', '#소통', '#trip', '#shopping', '#paris', '#dress', '#tflers', '#vacation', '#wanderlust', '#health', '#goodmorning', '#fashionblogger', '#anime', '#red', '#vintage', '#travelphotography', '#green', '#sweet', '#meme', '#instalove', '#insta', '#birthday', '#instafollow', '#luxury', '#throwback', '#amor', '#followback', '#sketch', '#fitfam', '#delicious', '#bts', '#dogs', '#new', '#instacool', '#clouds', '#relax', '#outfit', '#naturephotography', '#photoshoot', '#likes', '#shoes', '#sunday', '#bodybuilding', '#artwork', '#cats', '#indonesia', '#instatravel', '#training', '#adventure', '#quotes', '#dance', '#followforfollowback', '#fashionista', '#dinner', '#usa', '#newyork', '#nike', '#painting', '#canon', '#picture', '#morning', '#blogger', '#iphoneonly', '#москва', '#awesome', '#dubai', '#boy', '#istanbul', '#vegan', '#mood', '#instaphoto', '#breakfast', '#nice', '#interiordesign', '#color', '#white', '#pet', '#night', '#puppy', '#catsofinstagram', '#nails', '#tattoo', '#happiness', '#instafashion', '#work', '#illustration', '#architecture', '#japan', '#weekend', '#daily', '#explore', '#nyc', '#coffee', '#look', '#데일리', '#blessed', '#spring', '#italy', '#travelgram', '#맞팔', '#portrait', '#소통', '#trip', '#shopping', '#paris', '#dress', '#tflers', '#vacation', '#wanderlust', '#health', '#goodmorning', '#fashionblogger', '#anime', '#red', '#vintage', '#travelphotography', '#green', '#sweet', '#meme', '#instalove', '#insta', '#birthday', '#instafollow', '#luxury', '#throwback', '#amor', '#followback', '#sketch', '#fitfam', '#delicious', '#bts', '#dogs', '#new', '#instacool', '#clouds', '#relax', '#outfit', '#naturephotography', '#photoshoot', '#likes', '#shoes', '#sunday', '#bodybuilding', '#artwork', '#cats', '#indonesia', '#instatravel', '#training', '#adventure', '#quotes', '#dance', '#followforfollowback', '#fashionista', '#dinner', '#usa', '#newyork', '#nike', '#painting', '#canon', '#picture', '#morning', '#blogger', '#iphoneonly', '#москва', '#awesome', '#dubai', '#boy', '#istanbul', '#vegan', '#mood', '#instaphoto', '#breakfast', '#nice', '#interiordesign', '#color', '#white', '#pet', '#night', '#puppy', '#catsofinstagram', '#nails', '#tattoo', '#happiness', '#instafashion', '#work', '#illustration', '#architecture', '#japan', '#weekend', '#daily', '#explore', '#nyc', '#coffee', '#look', '#데일리', '#blessed', '#spring', '#italy', '#travelgram', '#맞팔', '#portrait', '#소통', '#trip', '#shopping', '#paris', '#dress', '#tflers', '#vacation', '#wanderlust', '#health', '#goodmorning', '#fashionblogger', '#anime', '#red', '#vintage', '#travelphotography', '#green', '#sweet', '#meme', '#instalove', '#insta', '#birthday', '#instafollow', '#luxury', '#throwback', '#amor', '#followback', '#sketch', '#fitfam', '#delicious', '#bts', '#dogs', '#new', '#instacool', '#clouds', '#relax', '#outfit', '#naturephotography', '#photoshoot', '#likes', '#shoes', '#sunday', '#bodybuilding', '#artwork', '#cats', '#indonesia', '#instatravel', '#training', '#adventure', '#quotes', '#dance', '#followforfollowback', '#fashionista', '#dinner', '#usa', '#newyork', '#nike', '#painting', '#canon', '#picture', '#morning', '#blogger', '#iphoneonly', '#москва', '#awesome', '#dubai', '#boy', '#istanbul', '#vegan', '#mood', '#instaphoto', '#breakfast', '#nice', '#interiordesign', '#color', '#white', '#pet', '#night', '#puppy', '#catsofinstagram', '#nails', '#tattoo', '#happiness', '#instafashion', '#work', '#illustration', '#architecture', '#japan', '#weekend', '#daily', '#explore', '#nyc', '#coffee', '#look', '#데일리', '#blessed', '#spring', '#italy', '#travelgram', '#맞팔', '#portrait', '#소통', '#trip', '#shopping', '#paris', '#dress', '#tflers', '#vacation', '#wanderlust', '#health', '#goodmorning', '#fashionblogger', '#anime', '#red', '#vintage', '#travelphotography', '#green', '#sweet', '#meme', '#instalove', '#insta', '#birthday', '#instafollow', '#luxury', '#throwback', '#amor', '#followback', '#sketch', '#fitfam', '#delicious', '#bts', '#dogs', '#new', '#instacool', '#clouds', '#relax', '#outfit', '#naturephotography', '#photoshoot', '#likes', '#shoes', '#sunday', '#bodybuilding', '#artwork', '#cats', '#indonesia', '#instatravel', '#training', '#adventure', '#quotes', '#dance', '#followforfollowback', '#fashionista', '#dinner', '#usa', '#newyork', '#nike', '#painting', '#canon', '#picture', '#morning', '#blogger', '#iphoneonly', '#москва', '#awesome', '#dubai', '#boy', '#istanbul', '#vegan', '#mood', '#instaphoto', '#breakfast', '#nice', '#interiordesign', '#color', '#white', '#pet', '#night', '#puppy', '#catsofinstagram', '#nails', '#tattoo', '#happiness', '#instafashion', '#work', '#illustration', '#architecture', '#japan', '#weekend', '#daily', '#explore', '#nyc', '#coffee', '#look', '#데일리', '#blessed', '#spring', '#italy', '#travelgram', '#맞팔', '#portrait', '#소통', '#trip', '#shopping', '#paris', '#dress', '#tflers', '#vacation', '#wanderlust', '#health', '#goodmorning', '#fashionblogger', '#anime', '#red', '#vintage', '#travelphotography', '#green', '#sweet', '#meme', '#instalove', '#insta', '#birthday', '#instafollow', '#luxury', '#throwback', '#amor', '#followback', '#sketch', '#fitfam', '#delicious', '#bts', '#dogs', '#new', '#instacool', '#clouds', '#relax', '#outfit', '#naturephotography', '#photoshoot', '#likes', '#shoes', '#sunday', '#bodybuilding', '#artwork', '#cats', '#indonesia', '#instatravel', '#training', '#adventure', '#quotes', '#dance', '#followforfollowback', '#fashionista', '#dinner', '#usa', '#newyork', '#nike', '#painting', '#canon', '#picture', '#morning', '#blogger', '#iphoneonly', '#москва', '#awesome', '#dubai', '#boy', '#istanbul', '#vegan', '#mood', '#instaphoto', '#breakfast', '#nice', '#interiordesign', '#color', '#white', '#pet', '#night', '#puppy', '#catsofinstagram', '#nails', '#tattoo', '#happiness', '#instafashion', '#work', '#illustration', '#architecture', '#japan', '#weekend', '#daily', '#explore', '#nyc', '#coffee', '#look', '#데일리', '#blessed', '#spring', '#italy', '#travelgram', '#맞팔', '#portrait', '#소통', '#trip', '#shopping', '#paris', '#dress', '#tflers', '#vacation', '#wanderlust', '#health', '#goodmorning', '#fashionblogger', '#anime', '#red', '#vintage', '#travelphotography', '#green', '#sweet', '#meme', '#instalove', '#insta', '#birthday', '#instafollow', '#luxury', '#throwback', '#amor', '#followback', '#sketch', '#fitfam', '#delicious', '#bts', '#dogs', '#new', '#instacool', '#clouds', '#relax', '#outfit', '#naturephotography', '#photoshoot', '#likes', '#shoes', '#sunday', '#bodybuilding', '#artwork', '#cats', '#indonesia', '#instatravel', '#training', '#adventure', '#quotes', '#dance', '#followforfollowback', '#fashionista', '#dinner', '#usa', '#newyork', '#nike', '#painting', '#canon', '#picture', '#morning', '#blogger', '#iphoneonly', '#москва', '#awesome', '#dubai', '#boy', '#istanbul', '#vegan', '#mood', '#instaphoto', '#breakfast', '#nice', '#interiordesign', '#color', '#white', '#pet', '#night', '#puppy', '#catsofinstagram', '#nails', '#tattoo', '#happiness', '#instafashion', '#work', '#illustration', '#architecture', '#japan', '#weekend', '#daily', '#explore', '#nyc', '#coffee', '#look', '#데일리', '#blessed', '#spring', '#italy', '#travelgram', '#맞팔', '#portrait', '#소통', '#trip', '#shopping', '#paris', '#dress', '#tflers', '#vacation', '#wanderlust', '#health', '#goodmorning', '#fashionblogger', '#anime', '#red', '#vintage', '#travelphotography', '#green', '#sweet', '#meme', '#instalove', '#insta', '#birthday', '#instafollow', '#luxury', '#throwback', '#amor', '#followback', '#sketch', '#fitfam', '#delicious', '#bts', '#dogs', '#new', '#instacool', '#clouds', '#relax', '#outfit', '#naturephotography', '#photoshoot', '#likes', '#shoes', '#sunday', '#bodybuilding', '#artwork', '#cats', '#indonesia', '#instatravel', '#training', '#adventure', '#quotes', '#dance', '#followforfollowback', '#fashionista', '#dinner', '#usa', '#newyork', '#nike', '#painting', '#canon', '#picture', '#morning', '#blogger', '#iphoneonly', '#москва', '#awesome', '#dubai', '#boy', '#istanbul', '#vegan', '#mood', '#instaphoto', '#breakfast', '#nice', '#interiordesign', '#color', '#white', '#pet', '#night', '#puppy', '#catsofinstagram', '#nails', '#tattoo', '#happiness', '#instafashion', '#work', '#illustration', '#architecture', '#japan', '#weekend', '#daily', '#explore', '#nyc', '#coffee', '#look', '#데일리', '#blessed', '#spring', '#italy', '#travelgram', '#맞팔', '#portrait', '#소통', '#trip', '#shopping', '#paris', '#dress', '#tflers', '#vacation', '#wanderlust', '#health', '#goodmorning', '#fashionblogger', '#anime', '#red', '#vintage', '#travelphotography', '#green', '#sweet', '#meme', '#instalove', '#insta', '#birthday', '#instafollow', '#luxury', '#throwback', '#amor', '#followback', '#sketch', '#fitfam', '#delicious', '#bts', '#dogs', '#new', '#instacool', '#clouds', '#relax', '#outfit', '#naturephotography', '#photoshoot', '#likes', '#shoes', '#sunday', '#bodybuilding', '#artwork', '#cats', '#indonesia', '#instatravel', '#training', '#adventure', '#quotes', '#dance', '#followforfollowback', '#fashionista', '#dinner', '#usa', '#newyork', '#nike', '#painting', '#canon', '#picture', '#morning', '#blogger', '#iphoneonly', '#москва', '#awesome', '#dubai', '#boy', '#istanbul', '#vegan', '#mood', '#instaphoto', '#breakfast', '#nice', '#interiordesign', '#color', '#white', '#pet', '#night', '#puppy', '#catsofinstagram', '#nails', '#tattoo', '#happiness', '#instafashion', '#work', '#illustration', '#architecture', '#japan', '#weekend', '#daily', '#explore', '#nyc', '#coffee', '#look', '#데일리', '#blessed', '#spring', '#italy', '#travelgram', '#맞팔', '#portrait', '#소통', '#trip', '#shopping', '#paris', '#dress', '#tflers', '#vacation', '#wanderlust', '#health', '#goodmorning', '#fashionblogger', '#anime', '#red', '#vintage', '#travelphotography', '#green', '#sweet', '#meme', '#instalove', '#insta', '#birthday', '#instafollow', '#luxury', '#throwback', '#amor', '#followback', '#sketch', '#fitfam', '#delicious', '#bts', '#dogs', '#new', '#instacool', '#clouds', '#relax', '#outfit', '#naturephotography', '#photoshoot', '#likes', '#shoes', '#sunday', '#bodybuilding', '#artwork', '#cats', '#indonesia', '#instatravel', '#training', '#adventure', '#quotes', '#dance', '#followforfollowback', '#fashionista', '#dinner', '#usa', '#newyork', '#nike', '#painting', '#canon', '#picture', '#morning', '#blogger', '#iphoneonly', '#москва', '#awesome', '#dubai', '#boy', '#istanbul', '#vegan', '#mood', '#instaphoto', '#breakfast', '#nice', '#interiordesign', '#color', '#white', '#pet', '#night', '#puppy', '#catsofinstagram', '#nails', '#tattoo', '#happiness', '#instafashion', '#work', '#illustration', '#architecture', '#japan', '#weekend', '#daily', '#explore', '#nyc', '#coffee', '#look', '#데일리', '#blessed', '#spring', '#italy', '#travelgram', '#맞팔', '#portrait', '#소통', '#trip', '#shopping', '#paris', '#dress', '#tflers', '#vacation', '#wanderlust', '#health', '#goodmorning', '#fashionblogger', '#anime', '#red', '#vintage', '#travelphotography', '#green', '#sweet', '#meme', '#instalove', '#insta', '#birthday', '#instafollow', '#luxury', '#throwback', '#amor', '#followback', '#sketch', '#fitfam', '#delicious', '#bts', '#dogs', '#new', '#instacool', '#clouds', '#relax', '#outfit', '#naturephotography', '#photoshoot', '#likes', '#shoes', '#sunday', '#bodybuilding', '#artwork', '#cats', '#indonesia', '#instatravel', '#training', '#adventure', '#quotes', '#dance', '#followforfollowback', '#fashionista', '#dinner', '#usa', '#newyork', '#nike', '#painting', '#canon', '#picture', '#morning', '#blogger', '#iphoneonly', '#москва', '#awesome', '#dubai', '#boy', '#istanbul', '#vegan', '#mood', '#instaphoto', '#breakfast', '#nice', '#interiordesign', '#color', '#white', '#pet', '#night', '#puppy', '#catsofinstagram', '#nails', '#tattoo', '#happiness', '#instafashion', '#work', '#illustration', '#architecture', '#japan', '#weekend', '#daily', '#explore', '#nyc', '#coffee', '#look', '#데일리', '#blessed', '#spring', '#italy', '#travelgram', '#맞팔', '#portrait', '#소통', '#trip', '#shopping', '#paris', '#dress', '#tflers', '#vacation', '#wanderlust', '#health', '#goodmorning', '#fashionblogger', '#anime', '#red', '#vintage', '#travelphotography', '#green', '#sweet', '#meme', '#instalove', '#insta', '#birthday', '#instafollow', '#luxury', '#throwback', '#amor', '#followback', '#sketch', '#fitfam', '#delicious', '#bts', '#dogs', '#new', '#instacool', '#clouds', '#relax', '#outfit', '#naturephotography', '#photoshoot', '#likes', '#shoes', '#sunday', '#bodybuilding', '#artwork', '#cats', '#indonesia', '#instatravel', '#training', '#adventure', '#quotes', '#dance', '#followforfollowback', '#fashionista', '#dinner', '#usa', '#newyork', '#nike', '#painting', '#canon', '#picture', '#morning', '#blogger', '#iphoneonly', '#москва', '#awesome', '#dubai', '#boy', '#istanbul', '#vegan', '#mood', '#instaphoto', '#breakfast', '#nice', '#interiordesign', '#color', '#white', '#pet', '#night', '#puppy', '#catsofinstagram', '#nails', '#tattoo', '#happiness', '#instafashion', '#work', '#illustration', '#architecture', '#japan', '#weekend', '#daily', '#explore', '#nyc', '#coffee', '#look', '#데일리', '#blessed', '#spring', '#italy', '#travelgram', '#맞팔', '#portrait', '#소통', '#trip', '#shopping', '#paris', '#dress', '#tflers', '#vacation', '#wanderlust', '#health', '#goodmorning', '#fashionblogger', '#anime', '#red', '#vintage', '#travelphotography', '#green', '#sweet', '#meme', '#instalove', '#insta', '#birthday', '#instafollow', '#luxury', '#throwback', '#amor', '#followback', '#sketch', '#fitfam', '#delicious', '#bts', '#dogs', '#new', '#instacool', '#clouds', '#relax', '#outfit', '#naturephotography', '#photoshoot', '#likes', '#shoes', '#sunday', '#bodybuilding', '#artwork', '#cats', '#indonesia', '#instatravel', '#training', '#adventure', '#quotes', '#dance', '#followforfollowback', '#fashionista', '#dinner', '#usa', '#newyork', '#nike', '#painting', '#canon', '#picture', '#morning', '#blogger', '#iphoneonly', '#москва', '#awesome', '#dubai', '#boy', '#istanbul', '#vegan', '#mood', '#instaphoto', '#breakfast', '#nice', '#interiordesign', '#color', '#white', '#pet']\n"
     ]
    }
   ],
   "source": [
    "url = \"https://top-hashtags.com/instagram/\"\n",
    "trending_keyword = []\n",
    "\n",
    "session = HTMLSession()\n",
    "for i in range(22):\n",
    "    if i != 0:\n",
    "        url += str(i)+\"01/\"\n",
    "    r = session.get(url)\n",
    "    a_s = r.html.find(\"div.i-tag a\", first=False)\n",
    "    for a in a_s:\n",
    "        trending_keyword.append(a.text)\n",
    "\n",
    "print(trending_keyword)\n",
    "    "
   ]
  },
  {
   "cell_type": "code",
   "execution_count": 4,
   "metadata": {},
   "outputs": [
    {
     "data": {
      "text/plain": [
       "2200"
      ]
     },
     "execution_count": 4,
     "metadata": {},
     "output_type": "execute_result"
    }
   ],
   "source": [
    "len(trending_keyword)"
   ]
  },
  {
   "cell_type": "code",
   "execution_count": 5,
   "metadata": {},
   "outputs": [
    {
     "name": "stdout",
     "output_type": "stream",
     "text": [
      "All Done [*_*]\n"
     ]
    }
   ],
   "source": [
    "file = open(\"trending_keywords.txt\", \"w+\")\n",
    "for i in trending_keyword:\n",
    "    file.write(i+\"\\n\")\n",
    "print(\"All Done [*_*]\")"
   ]
  },
  {
   "cell_type": "code",
   "execution_count": 6,
   "metadata": {},
   "outputs": [],
   "source": [
    "driver = webdriver.FirefoxProfile()\n",
    "driver.get(\"https://instagram.com/\")\n"
   ]
  },
  {
   "cell_type": "code",
   "execution_count": 8,
   "metadata": {},
   "outputs": [],
   "source": [
    "driver.find_element_by_css_selector(\"input[name='username']\").clear()\n",
    "driver.find_element_by_css_selector(\"input[name='password']\").clear()\n",
    "driver.find_element_by_css_selector(\"input[name='username']\").send_keys(username)\n",
    "driver.find_element_by_css_selector(\"input[name='password']\").send_keys(password)\n",
    "driver.find_element_by_css_selector(\"button.sqdOP.L3NKy.y3zKF[type='submit']\").click()\n"
   ]
  },
  {
   "cell_type": "code",
   "execution_count": 9,
   "metadata": {},
   "outputs": [],
   "source": [
    "# Saving the accoung login info btn handler...\n",
    "driver.find_element_by_css_selector(\"button.sqdOP.L3NKy.y3zKF[type='button']\").click()"
   ]
  },
  {
   "cell_type": "code",
   "execution_count": 10,
   "metadata": {},
   "outputs": [],
   "source": [
    "# Handling the search button...\n",
    "def search_hashtag(hashtag):\n",
    "    \"\"\"\n",
    "    This function will search a give hashtag...\n",
    "    \"\"\"\n",
    "    search_input = driver.find_element_by_css_selector(\"input.XTCLo.x3qfX[placeholder='Search']\")\n",
    "    search_input.clear()\n",
    "    search_input.send_keys([hashtag])\n",
    "    time.sleep(3)\n",
    "    # We need to wait untill the AJAXify search menu appears then \n",
    "    # We'will click on the first one.\n",
    "    # driver.find_element_by_css_selector(\"div.fuqBx a.yCE8d\").click()\n",
    "    # Let's use Web DriverWait instead of time.sleep()\n",
    "    req_a = WebDriverWait(driver, 10).until(\n",
    "        expected_conditions.presence_of_element_located((By.CSS_SELECTOR, \"div.fuqBx a.yCE8d\"))\n",
    "    )\n",
    "    req_a.click()\n",
    "    "
   ]
  },
  {
   "cell_type": "code",
   "execution_count": 11,
   "metadata": {},
   "outputs": [],
   "source": [
    "search_hashtag(trending_keyword[random.randint(0, len(trending_keyword)-1)])"
   ]
  },
  {
   "cell_type": "code",
   "execution_count": 12,
   "metadata": {},
   "outputs": [],
   "source": [
    "base_comments = [\n",
    "    \"❤\", \"🥺\", \"✨\", \"🥰\", \"✨\", \"😊\", \"😍\", \"🏆\", \"🔥\", \"☀\", \"💕\",\n",
    "    \"Coolest Post.\",\n",
    "    \"Nice Post 🔥\",\n",
    "    \"OMG Post.\",\n",
    "    \"Nice\", \"Great Post 🏆\"\n",
    "]\n",
    "LIKE_COUNTER = 0\n",
    "\n",
    "def bot_log(msg):\n",
    "    print(\"[BOT_LOG]: \" + msg)\n",
    "\n",
    "def get_random_comment(comments):\n",
    "    return comments[random.randint(0, len(comments)-1)]\n",
    "\n",
    "def like_hashtag_page(no_of_posts, comments, percentage_of_comments):\n",
    "    \"\"\"\n",
    "    This function will try to find the clickable posts on the \n",
    "    current url, and click on the very first post.\n",
    "    \"\"\"\n",
    "    global LIKE_COUNTER\n",
    "    liked_color = \"#ed4956\"\n",
    "    normal_color = \"#262626\"\n",
    "    # driver.find_elements_by_css_selector(\"div.v1Nh3.kIKUG._bz0w\")[0].click()\n",
    "    post = WebDriverWait(driver, 10).until(\n",
    "        expected_conditions.presence_of_element_located((By.CSS_SELECTOR, \"div.v1Nh3.kIKUG._bz0w\"))\n",
    "    )\n",
    "    post.click()\n",
    "    # like_btn = driver.find_element_by_css_selector(\"span.fr66n button.wpO6b\")\n",
    "    if no_of_posts != \"__all__\":\n",
    "        for i in range(no_of_posts):\n",
    "            next_btn = driver.find_element_by_css_selector(\"a._65Bje.coreSpriteRightPaginationArrow\")\n",
    "            try:\n",
    "                like_btn = WebDriverWait(driver, 10).until(\n",
    "                    expected_conditions.presence_of_element_located((By.CSS_SELECTOR, \"span.fr66n button.wpO6b\"))\n",
    "                )\n",
    "            except:\n",
    "                bot_log(\"THE POST SEEMS TO BE INVALID [WAITED FOR '10 sec']\")\n",
    "                next_btn.click()\n",
    "                \n",
    "            comment_input = driver.find_element_by_css_selector(\"form.X7cDz textarea.Ypffh\")\n",
    "            comment_input.click()\n",
    "            comment_input.send_keys([get_random_comment(), Keys.ENTER])\n",
    "            \n",
    "            color = driver.find_element_by_css_selector(\"div.QBdPU  span svg._8-yf5\").get_attribute(\"fill\")\n",
    "            if color == normal_color:\n",
    "                like_btn.click()\n",
    "                LIKE_COUNTER += 1\n",
    "            else:\n",
    "                print(\"[BOT_LOG]: FOUND POST ALREADY LIKED.\")\n",
    "            next_btn.click()\n",
    "    else:\n",
    "        while True:\n",
    "            next_btn = driver.find_element_by_css_selector(\"a._65Bje.coreSpriteRightPaginationArrow\")\n",
    "            try:\n",
    "                like_btn = WebDriverWait(driver, 10).until(\n",
    "                    expected_conditions.presence_of_element_located((By.CSS_SELECTOR, \"span.fr66n button.wpO6b\"))\n",
    "                )\n",
    "            except :\n",
    "                bot_log(\"THE POST SEEMS TO BE INVALID [WAITED FOR '10 sec']\")\n",
    "                next_btn.click()\n",
    "            if random.randint(1, 100) > (100 - percentage_of_comments):\n",
    "                driver.find_element_by_css_selector(\"span._15y0l button.wpO6b \").click()\n",
    "                comment_input = driver.find_element_by_css_selector(\"textarea.Ypffh\")\n",
    "                comment_input.send_keys([get_random_comment(comments)])\n",
    "                comment_input.send_keys(Keys.ENTER)\n",
    "            color = driver.find_element_by_css_selector(\"div.QBdPU  span svg._8-yf5\").get_attribute(\"fill\")\n",
    "            if color == normal_color:\n",
    "                like_btn.click()\n",
    "                LIKE_COUNTER += 1\n",
    "            else:\n",
    "                print(\"[BOT_LOG]: FOUND POST ALREADY LIKED.\")\n",
    "            next_btn.click()\n",
    "    return LIKE_COUNTER\n",
    "            \n",
    "\n",
    "    \n"
   ]
  },
  {
   "cell_type": "code",
   "execution_count": 14,
   "metadata": {},
   "outputs": [],
   "source": [
    "# like_hashtag_page(\"__all__\")"
   ]
  },
  {
   "cell_type": "code",
   "execution_count": 15,
   "metadata": {},
   "outputs": [],
   "source": [
    "def generate_random_hashtag():\n",
    "    return trending_keyword[random.randint(0, len(trending_keyword)-1)]"
   ]
  },
  {
   "cell_type": "code",
   "execution_count": 16,
   "metadata": {},
   "outputs": [],
   "source": [
    "# search_hashtag(\"#100daysofcode\")\n",
    "# # time.sleep(5)\n",
    "# like_hashtag_page(\"__all__\")"
   ]
  },
  {
   "cell_type": "code",
   "execution_count": 17,
   "metadata": {},
   "outputs": [
    {
     "name": "stdout",
     "output_type": "stream",
     "text": [
      "['❤', '🥺', '✨', '🥰', '✨', '😊', '😍', '🏆', '🔥', '☀', '💕', 'Coolest Post.', 'Nice Post 🔥', 'OMG Post.', 'Nice', 'Great Post 🏆', 'I think this is the best I’ve seen till now, Just Kidding 😊', 'Just when I couldn’t love you more. You posted this pic and my jaw dropped to the floor., Just Kidding 😊', 'You are a symbol of beauty, Just Kidding 😊', 'Surely you are the most beautiful woman alive, the most that I’ve seen, Just Kidding 😊', 'You mean the world to me., Just Kidding 😊', 'The word pretty is worthless without you, Just Kidding 😊', 'You are the definition of “Beauty”, Just Kidding 😊', 'Flawless outstanding eccentric lovely beauty, Just Kidding 😊', 'The stars, the moon, and the sun are minor to me since you sparkle brighter than all of them, Just Kidding 😊', 'You are graceful, Just Kidding 😊', 'Surely you would have been arrested if looking immensely beautiful was a crime., Just Kidding 😊', 'You’re an incredibly stunning, a really pretty, beautiful woman, Just Kidding 😊', 'I guess this is your best look, you look beautiful in this outfit., Just Kidding 😊', 'You look mesmerizing, Just Kidding 😊', 'I wonder how cute you would be looking when you sleep, Just Kidding 😊', 'You are so much lovely, Just Kidding 😊', 'I love your curly hair, Just Kidding 😊', 'Your dressing sense is appreciable, Just Kidding 😊', 'You are the sweetest girl I have ever seen, Just Kidding 😊', 'I love that straight hair of yours., Just Kidding 😊', 'You are pleasing, Just Kidding 😊', 'Just ‘WOW’ for your natural beauty., Just Kidding 😊', 'You are cute, Just Kidding 😊', 'I love how comfortable you are in your world, Just Kidding 😊', 'You are very much adorable, Just Kidding 😊', 'You look even more pretty without makeup, Just Kidding 😊', 'I feel so happy to be with you., Just Kidding 😊', 'You are my safest place, Just Kidding 😊', 'You look beautiful in that dress, Just Kidding 😊', 'I wish I had your makeup., Just Kidding 😊', 'You are stunning., Just Kidding 😊', 'That natural beauty tho, Just Kidding 😊', 'You have the most beautiful, sparkling eyes., Just Kidding 😊', 'You have the most beautiful smile., Just Kidding 😊', 'Your sense of fashion is great,, Just Kidding 😊', 'I like your hair., Just Kidding 😊', 'You look more beautiful than the photo., Just Kidding 😊', 'You look stunning., Just Kidding 😊', 'You’re classy., Just Kidding 😊', 'You’re very trendy., Just Kidding 😊', 'This picture is astounding., Just Kidding 😊', 'Your true colors are beautiful., Just Kidding 😊', 'You’ve got a beautiful heart., Just Kidding 😊', 'Inside out; you are beautiful., Just Kidding 😊', 'You take my breath away., Just Kidding 😊', 'I love how expressive your eyes are., Just Kidding 😊', 'Your beauty is one of the things I like about you., Just Kidding 😊', 'Honestly, you are beautiful, Just Kidding 😊', 'You’re helping us sound lovely., Just Kidding 😊', 'The beauty lies within the soul., Just Kidding 😊', 'It’s refreshing, your beauty., Just Kidding 😊', 'You are a whisper of perfection., Just Kidding 😊', 'You’ve got lovely eyes., Just Kidding 😊', 'There are endless possibilities for your beauty., Just Kidding 😊', 'You are a true beauty epitome., Just Kidding 😊', 'You’re beautiful and enthusiastic., Just Kidding 😊', 'I see the power of your grace., Just Kidding 😊', 'You’re like the sun’s ray., Just Kidding 😊', 'You’re a divine present., Just Kidding 😊', 'Beauty is just one of the beautiful features you have., Just Kidding 😊', 'The expression is lovely., Just Kidding 😊', 'Sorry is overcome by the grace., Just Kidding 😊', 'You are true, beautiful and pure., Just Kidding 😊', 'You’re flawless., Just Kidding 😊', 'You have a beautiful smile., Just Kidding 😊', 'Your beauty is amazing., Just Kidding 😊', 'I see the beauty of your life., Just Kidding 😊', 'I think you’re fascinated., Just Kidding 😊', 'Behind those beautiful eyes lies a beautiful story., Just Kidding 😊', 'Irresistible!, Just Kidding 😊', 'You’re energetic, aren’t ya?, Just Kidding 😊', 'Impressive pic, Just Kidding 😊', 'Strong and confident., Just Kidding 😊', 'The picture is lit!, Just Kidding 😊', 'Loadsa Elegance., Just Kidding 😊', 'Vibes everywhere!, Just Kidding 😊', 'The most stunning thing I’ve seen today., Just Kidding 😊', 'Your smile makes everyone happy., Just Kidding 😊', 'You are so Gorgeous., Just Kidding 😊', 'You made my day., Just Kidding 😊', 'This beauty has no boundaries., Just Kidding 😊', 'No one makes me smile more than you., Just Kidding 😊', 'Lady, you make me feel like a man, Just Kidding 😊', 'I just can’t stop wondering about you, Just Kidding 😊', 'When I hear your voice, my morning is all my day., Just Kidding 😊', 'I am now not thankful for anything aside from having you in my life, Just Kidding 😊', 'I can never get angry with you, your love is incompetent., Just Kidding 😊', 'If there is no “you.”, then my life means nothing., Just Kidding 😊', 'I get attracted to when you try to make me a better person., Just Kidding 😊', 'I want to see you., Just Kidding 😊', 'Hehe. cute monkey., Just Kidding 😊', 'You’re too short, just like your brain., Just Kidding 😊', 'Hey, you brainless cutie…, Just Kidding 😊', 'I am still wondering how can god create this kind of bizarre human being who is cute, adorable at the same time has no brain., Just Kidding 😊', 'You are my precious fool., Just Kidding 😊', 'Hello idiot!, Just Kidding 😊', 'What did I just see, that’s amazing, oh sorry it’s you!, Just Kidding 😊', 'Cute little bitch., Just Kidding 😊', 'Surely you’d have used a photo editor, Just Kidding 😊', 'Nice make-up., Just Kidding 😊', 'Hey Guys! here you can get to know about all the latest updates of Instagram filters., Just Kidding 😊', 'Pretty enough, Just Kidding 😊', 'How Gorgeous, Just Kidding 😊', 'You are ravishing, Just Kidding 😊', 'Why are you so beautiful?, Just Kidding 😊', 'You are amazing, Just Kidding 😊', 'Lit!, Just Kidding 😊', 'Your eyes are like stars, Just Kidding 😊', 'You are just inexplicable, Just Kidding 😊', 'Damn, what are you made of?, Just Kidding 😊', 'You seem pretty, Just Kidding 😊', 'You are engaging, Just Kidding 😊', 'This one’s stunning, Just Kidding 😊', 'Damn that cheeks, Just Kidding 😊', 'You are winsome, Just Kidding 😊', 'You are exquisite, Just Kidding 😊', 'Hello Miss world, Just Kidding 😊', 'You are elegant, Just Kidding 😊', 'Mine, Just Kidding 😊', 'Your charm is never-ending, Just Kidding 😊', 'Your smile is beautiful, Just Kidding 😊', 'Nice outfit, Just Kidding 😊', 'Those earrings suit you, Just Kidding 😊', 'You are graceful, Just Kidding 😊', 'Cutiepie, Just Kidding 😊', 'So lovely, Just Kidding 😊', 'Your charm is irresistible, Just Kidding 😊', 'See your beauty, Just Kidding 😊', 'You are mine, Just Kidding 😊', 'My heartbeat, Just Kidding 😊', 'The most pretty girl around, Just Kidding 😊', 'Probably the next miss world, Just Kidding 😊', 'That innocent look tho, Just Kidding 😊', 'It seems your Demand will probably increase in the future, lmao, Just Kidding 😊', 'You spunky, Just Kidding 😊', 'Precious diamond, Just Kidding 😊', 'I respect you, Just Kidding 😊', 'Keep smiling, Just Kidding 😊', 'Where did you get that charm from?, Just Kidding 😊', 'I’m sure your mother is the most beautiful lady in the world, Just Kidding 😊', 'I’ve heard about seven wonders of the world and the 8th just showed up!!, Just Kidding 😊', 'You are wonderful, Just Kidding 😊', 'You are mind-blowing, Just Kidding 😊', 'Cool, Just Kidding 😊', 'You are Fantabulous, Just Kidding 😊', 'This pic is just Fantastic, Just Kidding 😊', 'Supercalifragilisticexpialidocious, Just Kidding 😊', 'Incredibly attractive, Just Kidding 😊', 'Aren’t you awesome?, Just Kidding 😊', 'Your magnificence is irresistible., Just Kidding 😊', 'Such a charming post, Just Kidding 😊', 'Elegant pic, Just Kidding 😊', 'My words are less to portray this picture., Just Kidding 😊', 'Beauty lies inside for those who choose to see., Just Kidding 😊', 'The control of excellence lies inside the soul., Just Kidding 😊', 'This picture is worth a million words., Just Kidding 😊', 'Beauty is control; a grin is its sword., Just Kidding 😊', 'This looks exotic., Just Kidding 😊', 'I cherish how dynamic colors are within the picture., Just Kidding 😊', 'Such a beautiful picture looks great., Just Kidding 😊', 'Impressive picture., Just Kidding 😊', 'Your grin makes me Happy., Just Kidding 😊', 'Looking Flawless and this picture made my day., Just Kidding 😊', 'Your elegance is indescribable, Just Kidding 😊', 'Just divinely gorgeous, Just Kidding 😊', 'You’re an exceptionally wondrous and marvelous girl, Just Kidding 😊', 'Your looks make me insane., Just Kidding 😊', 'What a plenitude of magnificence., Just Kidding 😊', 'Grasp the wonderful mess that you simply are., Just Kidding 😊', 'Incredible characteristic excellence with parts of huge charm and astounding gorgeousness, Just Kidding 😊', 'The exemplification of beauty., Just Kidding 😊', 'Natural beauty with a brilliant heart, Just Kidding 😊', 'Lovely and more than rich!, Just Kidding 😊', 'Mesmerizing Treasury house of beauty, Just Kidding 😊', 'That’s the icon to revere if you’re sitting out of gear, Just Kidding 😊', 'How can somebody be this beautiful, Just Kidding 😊', 'Dazzling and impressive queen!, Just Kidding 😊', 'We all are favored to see your magnificence., Just Kidding 😊', 'You have got such an excellent smile, Just Kidding 😊', 'Your smile is fair enchanted and magnificent, Just Kidding 😊', 'You’ve got so charming and lovely grin that indeed God gives you each chance to smile, Just Kidding 😊', 'Keep grinning continuously expensive, you see so charming and lovely after you smile, Just Kidding 😊', 'What a Captivating capture!, Just Kidding 😊', 'Such a super magnificent capture this one is, Just Kidding 😊', 'Such a charming capture, Just Kidding 😊', 'Btw for me you continuously were astounding; always are amazing and continuously gonna be astounding too., Just Kidding 😊', 'Well I think this is often my favorite posture of yours, Just Kidding 😊', 'The meaning of excellence lies in you., Just Kidding 😊', 'You are the light in the darkness., Just Kidding 😊', 'No matter where I go,\\xa0I cannot find someone beautiful like you., Just Kidding 😊', 'Stop showing off, everyone knows you are extremely beautiful, Just Kidding 😊', 'I’m so lucky to have you in my life., Just Kidding 😊', 'No one should be permitted to look that good, ok?, Just Kidding 😊', 'You’re so charming, I can’t deal., Just Kidding 😊', 'Hello, you seem truly charming in this as always., Just Kidding 😊', 'Comment for a squad pic – Snare me up with the pretty on the (right, left or center)., Just Kidding 😊', 'That grin is priceless., Just Kidding 😊', 'You shake my world, Just Kidding 😊', 'You know you’re pretty… lovely, amazing & extremely wonderful., Just Kidding 😊', 'My heart skips a beat each time I think of you. Or perhaps it’s more of a somersault., Just Kidding 😊', 'For a few reasons each cherish tune makes me think of you…, Just Kidding 😊', 'God made the world in six days, rested on the seventh, but it took him thousands of a long time to create somebody as flawless as you., Just Kidding 😊', 'I figure your guardians are bakers because they made you such a cutie pie!, Just Kidding 😊', 'You looked so excellent the final time I saw you, that I overlooked what I was attending to say., Just Kidding 😊', 'I can’t raise the boldness to tell you how much I worship you, so I guess I’ll just keep it to myself., Just Kidding 😊', 'I’m so bored at work, come and rescue me., Just Kidding 😊', 'You looked incredible nowadays. I know I didn’t see you, but I know you look beautiful every day., Just Kidding 😊', 'Send me a photo, so that I can give my wish list to Santa., Just Kidding 😊', 'The sunflowers would have gone into the garbage if Van Gogh had you as a subject., Just Kidding 😊', 'You can’t be replaced., Just Kidding 😊', 'This one looks stunning, where did you get it from?, Just Kidding 😊', 'Hey, I’m only preparing my future and I would like to ask you: are you free for the rest of your life?, Just Kidding 😊', 'In this life, the one thing I can’t avoid is you., Just Kidding 😊', 'Each time I see you, I get light from your eyes., Just Kidding 😊', 'Here’s to hope your day consists of bright traffic lights, the supermarket’s quickest queue, and all the best ways to get you right back in my embrace., Just Kidding 😊', 'Your goodness is the most attractive feature, it makes me a better human., Just Kidding 😊', 'How can you look so amazing every day? I am speechless when I look at you., Just Kidding 😊', 'You’re in my mind regularly, and you’ve certainly taken a place in my heart., Just Kidding 😊', 'Can you post your pictures regularly? because I want my feed to look bright and beautiful every day., Just Kidding 😊', 'Looks great, is this actually a lockdown picture?, Just Kidding 😊', 'You’re really getting good at these Instagram challenges, I must say., Just Kidding 😊', 'Once the pandemic ends, this is what I am going to try., Just Kidding 😊', 'I should definitely try the backdrop in your picture, girl!, Just Kidding 😊'] \n",
      "Length:  239\n"
     ]
    }
   ],
   "source": [
    "\n",
    "\n",
    "comments = [\n",
    "    \"❤\", \"🥺\", \"✨\", \"🥰\", \"✨\", \"😊\", \"😍\", \"🏆\", \"🔥\", \"☀\", \"💕\",\n",
    "    \"Coolest Post.\",\n",
    "    \"Nice Post 🔥\",\n",
    "    \"OMG Post.\",\n",
    "    \"Nice\", \"Great Post 🏆\"\n",
    "]\n",
    "\n",
    "def scrap_comments():\n",
    "    \"\"\"\n",
    "    URL: https://www.trendingus.com/comments-for-girls/\n",
    "    This function scraps some of the best comments from the internet.\n",
    "    \"\"\"\n",
    "    r = session.get(\"https://www.trendingus.com/comments-for-girls/\")\n",
    "    li_s = r.html.find(\"ol li\", first=False)\n",
    "    for li in li_s:\n",
    "        comments.append(li.text + \", Just Kidding 😊\")\n",
    "scrap_comments()\n",
    "print(comments, \"\\nLength: \", len(comments))        "
   ]
  },
  {
   "cell_type": "code",
   "execution_count": null,
   "metadata": {},
   "outputs": [],
   "source": [
    "\n",
    "# like_hashtag_page(20, base_comments, 10)"
   ]
  },
  {
   "cell_type": "code",
   "execution_count": 19,
   "metadata": {},
   "outputs": [
    {
     "name": "stdout",
     "output_type": "stream",
     "text": [
      "['❤😍✨😍☀', '🥰❤😍❤❤', '✨🥺💕😍☀', '❤🥰✨❤✨', '✨🥺🥰😍😊', '✨✨😍☀🥺', '🥰🥺😍🥺🥺', '🥰🏆💕🏆😊', '🥺🥺🥺🥰💕', '✨🏆✨🏆😊', '☀✨✨🏆😊', '✨🥺🥰☀❤', '✨✨💕🥺☀', '😊🔥😊🥰✨', '💕😊☀❤💕', '🥰🏆❤✨🥰', '☀❤😍🔥🔥', '🔥🏆✨😍🏆', '🥺🥺🥰🥰😊', '😍🥰💕✨😍', '❤🥺❤🥺🔥', '✨💕🥺🥺❤', '🥰😍✨✨☀', '🔥☀💕✨🥺', '❤✨🔥🔥☀', '🥺🥰🥺✨🏆', '🔥🥺😊✨☀', '🔥☀☀✨🥺', '😊☀😊✨💕', '🥺❤🥺🥺✨', '☀😊😍🥰🏆', '😊😊😍💕💕', '😊✨😊🏆✨', '💕✨☀✨🥺', '✨✨☀✨✨', '🔥✨✨✨😊', '🥰🥰✨✨🔥', '🏆😊🥰😍🥺', '✨🥺☀❤🥺', '✨❤✨💕❤', '😊😊🥰✨🔥', '✨😊😍🔥🏆', '😊🏆😊💕☀', '✨🔥🥰☀🥺', '❤🥰😍🏆😊', '☀🥰☀✨😍', '☀🥰🔥✨🥺', '✨🥺🔥☀✨', '😍☀❤❤😍', '💕✨💕🥺🏆', '❤✨✨🥺🏆', '✨🥺☀☀😊', '✨💕☀☀🏆', '🥺✨🥺✨❤', '🏆🥺😍🥺🥰', '💕✨❤❤🏆', '🥺🥺✨😊✨', '😍🥰💕❤😍', '❤🏆😊💕🥰', '❤✨🔥💕🔥', '☀✨🔥✨🥰', '✨😊✨😍💕', '✨😊❤😍🏆', '✨🔥❤❤✨', '😊🥺💕😍🔥', '✨🏆❤❤💕', '🥰💕✨🔥💕', '☀☀🥺🏆☀', '😊☀🥰😊😊', '😍💕🥺🥰😊', '✨✨🏆✨😊', '✨🥺☀🔥✨', '🥰✨🔥🥺☀', '😍🥺🔥🥰☀', '🏆🏆😍❤😍', '😍🥰☀🥺😊', '✨❤🏆🏆🥺', '✨❤🥺✨🥺', '🥰🔥✨🏆🏆', '🏆✨❤😊🥺', '🥰😍🥰🏆😊', '💕🏆🔥❤🔥', '☀🥰✨☀✨', '😊😍🥰🔥✨', '✨☀🥰✨✨', '🏆😊❤✨🏆', '❤✨☀🥰😊', '🥰✨🥰🔥🥰', '🥺🥺❤✨❤', '😍✨☀☀🥺', '❤😍🏆☀☀', '💕🔥✨💕🥰', '✨✨☀🔥🏆', '🥰😊😊☀🥰', '😍😍✨🔥🥺', '🏆😍☀☀❤', '✨🔥❤✨😊', '😊🏆✨🏆🥺', '💕❤💕🥺🥰', '🏆🏆🔥❤☀']\n"
     ]
    }
   ],
   "source": [
    "def generate_random_comment_emoji_list(emoji_list, length_of_comment, no_of_comments):\n",
    "    \"\"\"\n",
    "    emoji_list: a list of emoji from which we generate the comment\n",
    "    length_of_comment: self explanatory...\n",
    "    no_of_comments: no of comments you wanna generate\n",
    "    \"\"\"\n",
    "    comment_list = []\n",
    "    for j in range(no_of_comments):\n",
    "        comment = \"\"\n",
    "        for i in range(length_of_comment):    \n",
    "            comment += emoji_list[random.randint(0, len(emoji_list)-1)]\n",
    "        comment_list.append(comment)\n",
    "    return comment_list\n",
    "\n",
    "print(generate_random_comment_emoji_list([\"❤\", \"🥺\", \"✨\", \"🥰\", \"✨\", \"😊\", \"😍\", \"🏆\", \"🔥\", \"☀\", \"💕\"], 5, 100))        \n",
    "        "
   ]
  },
  {
   "cell_type": "code",
   "execution_count": 22,
   "metadata": {},
   "outputs": [
    {
     "name": "stdout",
     "output_type": "stream",
     "text": [
      "[BOT_LOG]: FOUND POST ALREADY LIKED.\n",
      "[BOT_LOG]: FOUND POST ALREADY LIKED.\n",
      "[BOT_LOG]: FOUND POST ALREADY LIKED.\n",
      "[BOT_LOG]: FOUND POST ALREADY LIKED.\n",
      "[BOT_LOG]: FOUND POST ALREADY LIKED.\n",
      "[BOT_LOG]: FOUND POST ALREADY LIKED.\n",
      "[BOT_LOG]: FOUND POST ALREADY LIKED.\n",
      "[BOT_LOG]: FOUND POST ALREADY LIKED.\n",
      "[BOT_LOG]: FOUND POST ALREADY LIKED.\n",
      "[BOT_LOG]: FOUND POST ALREADY LIKED.\n",
      "[BOT_LOG]: THE POST SEEMS TO BE INVALID [WAITED FOR '10 sec']\n"
     ]
    },
    {
     "ename": "NoSuchElementException",
     "evalue": "Message: Unable to locate element: div.QBdPU  span svg._8-yf5\n",
     "output_type": "error",
     "traceback": [
      "\u001b[0;31m---------------------------------------------------------------------------\u001b[0m",
      "\u001b[0;31mNoSuchElementException\u001b[0m                    Traceback (most recent call last)",
      "\u001b[0;32m<ipython-input-22-642b6d53d9b7>\u001b[0m in \u001b[0;36m<module>\u001b[0;34m\u001b[0m\n\u001b[1;32m      1\u001b[0m \u001b[0msearch_hashtag\u001b[0m\u001b[0;34m(\u001b[0m\u001b[0;34m\"#python3\"\u001b[0m\u001b[0;34m)\u001b[0m\u001b[0;34m\u001b[0m\u001b[0;34m\u001b[0m\u001b[0m\n\u001b[1;32m      2\u001b[0m \u001b[0mtime\u001b[0m\u001b[0;34m.\u001b[0m\u001b[0msleep\u001b[0m\u001b[0;34m(\u001b[0m\u001b[0;36m5\u001b[0m\u001b[0;34m)\u001b[0m\u001b[0;34m\u001b[0m\u001b[0;34m\u001b[0m\u001b[0m\n\u001b[0;32m----> 3\u001b[0;31m count = like_hashtag_page(\n\u001b[0m\u001b[1;32m      4\u001b[0m     \u001b[0mno_of_posts\u001b[0m\u001b[0;34m=\u001b[0m\u001b[0;34m\"__all__\"\u001b[0m\u001b[0;34m,\u001b[0m\u001b[0;34m\u001b[0m\u001b[0;34m\u001b[0m\u001b[0m\n\u001b[1;32m      5\u001b[0m     comments=generate_random_comment_emoji_list(\n",
      "\u001b[0;32m<ipython-input-12-a0a563f3ab96>\u001b[0m in \u001b[0;36mlike_hashtag_page\u001b[0;34m(no_of_posts, comments, percentage_of_comments)\u001b[0m\n\u001b[1;32m     65\u001b[0m                 \u001b[0mcomment_input\u001b[0m\u001b[0;34m.\u001b[0m\u001b[0msend_keys\u001b[0m\u001b[0;34m(\u001b[0m\u001b[0;34m[\u001b[0m\u001b[0mget_random_comment\u001b[0m\u001b[0;34m(\u001b[0m\u001b[0mcomments\u001b[0m\u001b[0;34m)\u001b[0m\u001b[0;34m]\u001b[0m\u001b[0;34m)\u001b[0m\u001b[0;34m\u001b[0m\u001b[0;34m\u001b[0m\u001b[0m\n\u001b[1;32m     66\u001b[0m                 \u001b[0mcomment_input\u001b[0m\u001b[0;34m.\u001b[0m\u001b[0msend_keys\u001b[0m\u001b[0;34m(\u001b[0m\u001b[0mKeys\u001b[0m\u001b[0;34m.\u001b[0m\u001b[0mENTER\u001b[0m\u001b[0;34m)\u001b[0m\u001b[0;34m\u001b[0m\u001b[0;34m\u001b[0m\u001b[0m\n\u001b[0;32m---> 67\u001b[0;31m             \u001b[0mcolor\u001b[0m \u001b[0;34m=\u001b[0m \u001b[0mdriver\u001b[0m\u001b[0;34m.\u001b[0m\u001b[0mfind_element_by_css_selector\u001b[0m\u001b[0;34m(\u001b[0m\u001b[0;34m\"div.QBdPU  span svg._8-yf5\"\u001b[0m\u001b[0;34m)\u001b[0m\u001b[0;34m.\u001b[0m\u001b[0mget_attribute\u001b[0m\u001b[0;34m(\u001b[0m\u001b[0;34m\"fill\"\u001b[0m\u001b[0;34m)\u001b[0m\u001b[0;34m\u001b[0m\u001b[0;34m\u001b[0m\u001b[0m\n\u001b[0m\u001b[1;32m     68\u001b[0m             \u001b[0;32mif\u001b[0m \u001b[0mcolor\u001b[0m \u001b[0;34m==\u001b[0m \u001b[0mnormal_color\u001b[0m\u001b[0;34m:\u001b[0m\u001b[0;34m\u001b[0m\u001b[0;34m\u001b[0m\u001b[0m\n\u001b[1;32m     69\u001b[0m                 \u001b[0mlike_btn\u001b[0m\u001b[0;34m.\u001b[0m\u001b[0mclick\u001b[0m\u001b[0;34m(\u001b[0m\u001b[0;34m)\u001b[0m\u001b[0;34m\u001b[0m\u001b[0;34m\u001b[0m\u001b[0m\n",
      "\u001b[0;32m/usr/lib/python3/dist-packages/selenium/webdriver/remote/webdriver.py\u001b[0m in \u001b[0;36mfind_element_by_css_selector\u001b[0;34m(self, css_selector)\u001b[0m\n\u001b[1;32m    625\u001b[0m                 \u001b[0melement\u001b[0m \u001b[0;34m=\u001b[0m \u001b[0mdriver\u001b[0m\u001b[0;34m.\u001b[0m\u001b[0mfind_element_by_css_selector\u001b[0m\u001b[0;34m(\u001b[0m\u001b[0;34m'#foo'\u001b[0m\u001b[0;34m)\u001b[0m\u001b[0;34m\u001b[0m\u001b[0;34m\u001b[0m\u001b[0m\n\u001b[1;32m    626\u001b[0m         \"\"\"\n\u001b[0;32m--> 627\u001b[0;31m         \u001b[0;32mreturn\u001b[0m \u001b[0mself\u001b[0m\u001b[0;34m.\u001b[0m\u001b[0mfind_element\u001b[0m\u001b[0;34m(\u001b[0m\u001b[0mby\u001b[0m\u001b[0;34m=\u001b[0m\u001b[0mBy\u001b[0m\u001b[0;34m.\u001b[0m\u001b[0mCSS_SELECTOR\u001b[0m\u001b[0;34m,\u001b[0m \u001b[0mvalue\u001b[0m\u001b[0;34m=\u001b[0m\u001b[0mcss_selector\u001b[0m\u001b[0;34m)\u001b[0m\u001b[0;34m\u001b[0m\u001b[0;34m\u001b[0m\u001b[0m\n\u001b[0m\u001b[1;32m    628\u001b[0m \u001b[0;34m\u001b[0m\u001b[0m\n\u001b[1;32m    629\u001b[0m     \u001b[0;32mdef\u001b[0m \u001b[0mfind_elements_by_css_selector\u001b[0m\u001b[0;34m(\u001b[0m\u001b[0mself\u001b[0m\u001b[0;34m,\u001b[0m \u001b[0mcss_selector\u001b[0m\u001b[0;34m)\u001b[0m\u001b[0;34m:\u001b[0m\u001b[0;34m\u001b[0m\u001b[0;34m\u001b[0m\u001b[0m\n",
      "\u001b[0;32m/usr/lib/python3/dist-packages/selenium/webdriver/remote/webdriver.py\u001b[0m in \u001b[0;36mfind_element\u001b[0;34m(self, by, value)\u001b[0m\n\u001b[1;32m   1010\u001b[0m                 \u001b[0mby\u001b[0m \u001b[0;34m=\u001b[0m \u001b[0mBy\u001b[0m\u001b[0;34m.\u001b[0m\u001b[0mCSS_SELECTOR\u001b[0m\u001b[0;34m\u001b[0m\u001b[0;34m\u001b[0m\u001b[0m\n\u001b[1;32m   1011\u001b[0m                 \u001b[0mvalue\u001b[0m \u001b[0;34m=\u001b[0m \u001b[0;34m'[name=\"%s\"]'\u001b[0m \u001b[0;34m%\u001b[0m \u001b[0mvalue\u001b[0m\u001b[0;34m\u001b[0m\u001b[0;34m\u001b[0m\u001b[0m\n\u001b[0;32m-> 1012\u001b[0;31m         return self.execute(Command.FIND_ELEMENT, {\n\u001b[0m\u001b[1;32m   1013\u001b[0m             \u001b[0;34m'using'\u001b[0m\u001b[0;34m:\u001b[0m \u001b[0mby\u001b[0m\u001b[0;34m,\u001b[0m\u001b[0;34m\u001b[0m\u001b[0;34m\u001b[0m\u001b[0m\n\u001b[1;32m   1014\u001b[0m             'value': value})['value']\n",
      "\u001b[0;32m/usr/lib/python3/dist-packages/selenium/webdriver/remote/webdriver.py\u001b[0m in \u001b[0;36mexecute\u001b[0;34m(self, driver_command, params)\u001b[0m\n\u001b[1;32m    316\u001b[0m         \u001b[0mresponse\u001b[0m \u001b[0;34m=\u001b[0m \u001b[0mself\u001b[0m\u001b[0;34m.\u001b[0m\u001b[0mcommand_executor\u001b[0m\u001b[0;34m.\u001b[0m\u001b[0mexecute\u001b[0m\u001b[0;34m(\u001b[0m\u001b[0mdriver_command\u001b[0m\u001b[0;34m,\u001b[0m \u001b[0mparams\u001b[0m\u001b[0;34m)\u001b[0m\u001b[0;34m\u001b[0m\u001b[0;34m\u001b[0m\u001b[0m\n\u001b[1;32m    317\u001b[0m         \u001b[0;32mif\u001b[0m \u001b[0mresponse\u001b[0m\u001b[0;34m:\u001b[0m\u001b[0;34m\u001b[0m\u001b[0;34m\u001b[0m\u001b[0m\n\u001b[0;32m--> 318\u001b[0;31m             \u001b[0mself\u001b[0m\u001b[0;34m.\u001b[0m\u001b[0merror_handler\u001b[0m\u001b[0;34m.\u001b[0m\u001b[0mcheck_response\u001b[0m\u001b[0;34m(\u001b[0m\u001b[0mresponse\u001b[0m\u001b[0;34m)\u001b[0m\u001b[0;34m\u001b[0m\u001b[0;34m\u001b[0m\u001b[0m\n\u001b[0m\u001b[1;32m    319\u001b[0m             response['value'] = self._unwrap_value(\n\u001b[1;32m    320\u001b[0m                 response.get('value', None))\n",
      "\u001b[0;32m/usr/lib/python3/dist-packages/selenium/webdriver/remote/errorhandler.py\u001b[0m in \u001b[0;36mcheck_response\u001b[0;34m(self, response)\u001b[0m\n\u001b[1;32m    240\u001b[0m                 \u001b[0malert_text\u001b[0m \u001b[0;34m=\u001b[0m \u001b[0mvalue\u001b[0m\u001b[0;34m[\u001b[0m\u001b[0;34m'alert'\u001b[0m\u001b[0;34m]\u001b[0m\u001b[0;34m.\u001b[0m\u001b[0mget\u001b[0m\u001b[0;34m(\u001b[0m\u001b[0;34m'text'\u001b[0m\u001b[0;34m)\u001b[0m\u001b[0;34m\u001b[0m\u001b[0;34m\u001b[0m\u001b[0m\n\u001b[1;32m    241\u001b[0m             \u001b[0;32mraise\u001b[0m \u001b[0mexception_class\u001b[0m\u001b[0;34m(\u001b[0m\u001b[0mmessage\u001b[0m\u001b[0;34m,\u001b[0m \u001b[0mscreen\u001b[0m\u001b[0;34m,\u001b[0m \u001b[0mstacktrace\u001b[0m\u001b[0;34m,\u001b[0m \u001b[0malert_text\u001b[0m\u001b[0;34m)\u001b[0m\u001b[0;34m\u001b[0m\u001b[0;34m\u001b[0m\u001b[0m\n\u001b[0;32m--> 242\u001b[0;31m         \u001b[0;32mraise\u001b[0m \u001b[0mexception_class\u001b[0m\u001b[0;34m(\u001b[0m\u001b[0mmessage\u001b[0m\u001b[0;34m,\u001b[0m \u001b[0mscreen\u001b[0m\u001b[0;34m,\u001b[0m \u001b[0mstacktrace\u001b[0m\u001b[0;34m)\u001b[0m\u001b[0;34m\u001b[0m\u001b[0;34m\u001b[0m\u001b[0m\n\u001b[0m\u001b[1;32m    243\u001b[0m \u001b[0;34m\u001b[0m\u001b[0m\n\u001b[1;32m    244\u001b[0m     \u001b[0;32mdef\u001b[0m \u001b[0m_value_or_default\u001b[0m\u001b[0;34m(\u001b[0m\u001b[0mself\u001b[0m\u001b[0;34m,\u001b[0m \u001b[0mobj\u001b[0m\u001b[0;34m,\u001b[0m \u001b[0mkey\u001b[0m\u001b[0;34m,\u001b[0m \u001b[0mdefault\u001b[0m\u001b[0;34m)\u001b[0m\u001b[0;34m:\u001b[0m\u001b[0;34m\u001b[0m\u001b[0;34m\u001b[0m\u001b[0m\n",
      "\u001b[0;31mNoSuchElementException\u001b[0m: Message: Unable to locate element: div.QBdPU  span svg._8-yf5\n"
     ]
    }
   ],
   "source": [
    "search_hashtag(\"#python3\")\n",
    "time.sleep(5)\n",
    "count = like_hashtag_page(\n",
    "    no_of_posts=\"__all__\", \n",
    "    comments=generate_random_comment_emoji_list(\n",
    "        emoji_list=[\"❤\", \"🥺\", \"✨\", \"🥰\", \"✨\", \"😊\", \"😍\", \"🏆\", \"🔥\", \"☀\", \"💕\"], \n",
    "        length_of_comment=5, \n",
    "        no_of_comments=1000\n",
    "    ), \n",
    "    percentage_of_comments=5\n",
    ")\n",
    "print(count)"
   ]
  }
 ],
 "metadata": {
  "kernelspec": {
   "display_name": "Python 3",
   "language": "python",
   "name": "python3"
  },
  "language_info": {
   "codemirror_mode": {
    "name": "ipython",
    "version": 3
   },
   "file_extension": ".py",
   "mimetype": "text/x-python",
   "name": "python",
   "nbconvert_exporter": "python",
   "pygments_lexer": "ipython3",
   "version": "3.8.3"
  }
 },
 "nbformat": 4,
 "nbformat_minor": 4
}
